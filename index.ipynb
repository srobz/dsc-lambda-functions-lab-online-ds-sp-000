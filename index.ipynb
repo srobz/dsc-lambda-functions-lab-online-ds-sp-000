{
 "cells": [
  {
   "cell_type": "markdown",
   "metadata": {},
   "source": [
    "# Lambda Functions - Lab\n",
    "\n",
    "## Introduction\n",
    "\n",
    "In this lab, you'll get some hands-on practice creating and using lambda functions.\n",
    "\n",
    "## Objectives\n",
    "In this lab you will: \n",
    "* Create lambda functions to use as arguments of other functions   \n",
    "* Use the `.map()` or `.apply()` method to apply a function to a pandas series or DataFrame"
   ]
  },
  {
   "cell_type": "markdown",
   "metadata": {},
   "source": [
    "## Lambda Functions"
   ]
  },
  {
   "cell_type": "code",
   "execution_count": null,
   "metadata": {},
   "outputs": [],
   "source": [
    "#lambda functions are a quick way to write a function, called anonymous function because you don't name them\n",
    "#quick operation on pandas dataframe, pretty efficient way to do it"
   ]
  },
  {
   "cell_type": "code",
   "execution_count": 1,
   "metadata": {},
   "outputs": [
    {
     "data": {
      "text/html": [
       "<div>\n",
       "<style scoped>\n",
       "    .dataframe tbody tr th:only-of-type {\n",
       "        vertical-align: middle;\n",
       "    }\n",
       "\n",
       "    .dataframe tbody tr th {\n",
       "        vertical-align: top;\n",
       "    }\n",
       "\n",
       "    .dataframe thead th {\n",
       "        text-align: right;\n",
       "    }\n",
       "</style>\n",
       "<table border=\"1\" class=\"dataframe\">\n",
       "  <thead>\n",
       "    <tr style=\"text-align: right;\">\n",
       "      <th></th>\n",
       "      <th>business_id</th>\n",
       "      <th>cool</th>\n",
       "      <th>date</th>\n",
       "      <th>funny</th>\n",
       "      <th>review_id</th>\n",
       "      <th>stars</th>\n",
       "      <th>text</th>\n",
       "      <th>useful</th>\n",
       "      <th>user_id</th>\n",
       "    </tr>\n",
       "  </thead>\n",
       "  <tbody>\n",
       "    <tr>\n",
       "      <th>1</th>\n",
       "      <td>pomGBqfbxcqPv14c3XH-ZQ</td>\n",
       "      <td>0</td>\n",
       "      <td>2012-11-13</td>\n",
       "      <td>0</td>\n",
       "      <td>dDl8zu1vWPdKGihJrwQbpw</td>\n",
       "      <td>5</td>\n",
       "      <td>I love this place! My fiance And I go here atl...</td>\n",
       "      <td>0</td>\n",
       "      <td>msQe1u7Z_XuqjGoqhB0J5g</td>\n",
       "    </tr>\n",
       "    <tr>\n",
       "      <th>2</th>\n",
       "      <td>jtQARsP6P-LbkyjbO1qNGg</td>\n",
       "      <td>1</td>\n",
       "      <td>2014-10-23</td>\n",
       "      <td>1</td>\n",
       "      <td>LZp4UX5zK3e-c5ZGSeo3kA</td>\n",
       "      <td>1</td>\n",
       "      <td>Terrible. Dry corn bread. Rib tips were all fa...</td>\n",
       "      <td>3</td>\n",
       "      <td>msQe1u7Z_XuqjGoqhB0J5g</td>\n",
       "    </tr>\n",
       "  </tbody>\n",
       "</table>\n",
       "</div>"
      ],
      "text/plain": [
       "              business_id  cool        date  funny               review_id  \\\n",
       "1  pomGBqfbxcqPv14c3XH-ZQ     0  2012-11-13      0  dDl8zu1vWPdKGihJrwQbpw   \n",
       "2  jtQARsP6P-LbkyjbO1qNGg     1  2014-10-23      1  LZp4UX5zK3e-c5ZGSeo3kA   \n",
       "\n",
       "   stars                                               text  useful  \\\n",
       "1      5  I love this place! My fiance And I go here atl...       0   \n",
       "2      1  Terrible. Dry corn bread. Rib tips were all fa...       3   \n",
       "\n",
       "                  user_id  \n",
       "1  msQe1u7Z_XuqjGoqhB0J5g  \n",
       "2  msQe1u7Z_XuqjGoqhB0J5g  "
      ]
     },
     "execution_count": 1,
     "metadata": {},
     "output_type": "execute_result"
    }
   ],
   "source": [
    "import pandas as pd\n",
    "df = pd.read_csv('Yelp_Reviews.csv', index_col=0)\n",
    "df.head(2)\n",
    "#loading in a dataset of yelp reviews"
   ]
  },
  {
   "cell_type": "markdown",
   "metadata": {},
   "source": [
    "## Simple arithmetic\n",
    "\n",
    "Use a lambda function to create a new column called `'stars_squared'` by squaring the stars column."
   ]
  },
  {
   "cell_type": "code",
   "execution_count": 2,
   "metadata": {},
   "outputs": [],
   "source": [
    "#first make a column called stars squared; need to first grab column to apply lambda function to\n",
    "df['stars_squared'] = df['stars'].map(lambda x: x**2)"
   ]
  },
  {
   "cell_type": "code",
   "execution_count": 4,
   "metadata": {},
   "outputs": [
    {
     "data": {
      "text/html": [
       "<div>\n",
       "<style scoped>\n",
       "    .dataframe tbody tr th:only-of-type {\n",
       "        vertical-align: middle;\n",
       "    }\n",
       "\n",
       "    .dataframe tbody tr th {\n",
       "        vertical-align: top;\n",
       "    }\n",
       "\n",
       "    .dataframe thead th {\n",
       "        text-align: right;\n",
       "    }\n",
       "</style>\n",
       "<table border=\"1\" class=\"dataframe\">\n",
       "  <thead>\n",
       "    <tr style=\"text-align: right;\">\n",
       "      <th></th>\n",
       "      <th>business_id</th>\n",
       "      <th>cool</th>\n",
       "      <th>date</th>\n",
       "      <th>funny</th>\n",
       "      <th>review_id</th>\n",
       "      <th>stars</th>\n",
       "      <th>text</th>\n",
       "      <th>useful</th>\n",
       "      <th>user_id</th>\n",
       "      <th>stars_squared</th>\n",
       "    </tr>\n",
       "  </thead>\n",
       "  <tbody>\n",
       "    <tr>\n",
       "      <th>1</th>\n",
       "      <td>pomGBqfbxcqPv14c3XH-ZQ</td>\n",
       "      <td>0</td>\n",
       "      <td>2012-11-13</td>\n",
       "      <td>0</td>\n",
       "      <td>dDl8zu1vWPdKGihJrwQbpw</td>\n",
       "      <td>5</td>\n",
       "      <td>I love this place! My fiance And I go here atl...</td>\n",
       "      <td>0</td>\n",
       "      <td>msQe1u7Z_XuqjGoqhB0J5g</td>\n",
       "      <td>25</td>\n",
       "    </tr>\n",
       "    <tr>\n",
       "      <th>2</th>\n",
       "      <td>jtQARsP6P-LbkyjbO1qNGg</td>\n",
       "      <td>1</td>\n",
       "      <td>2014-10-23</td>\n",
       "      <td>1</td>\n",
       "      <td>LZp4UX5zK3e-c5ZGSeo3kA</td>\n",
       "      <td>1</td>\n",
       "      <td>Terrible. Dry corn bread. Rib tips were all fa...</td>\n",
       "      <td>3</td>\n",
       "      <td>msQe1u7Z_XuqjGoqhB0J5g</td>\n",
       "      <td>1</td>\n",
       "    </tr>\n",
       "    <tr>\n",
       "      <th>4</th>\n",
       "      <td>Ums3gaP2qM3W1XcA5r6SsQ</td>\n",
       "      <td>0</td>\n",
       "      <td>2014-09-05</td>\n",
       "      <td>0</td>\n",
       "      <td>jsDu6QEJHbwP2Blom1PLCA</td>\n",
       "      <td>5</td>\n",
       "      <td>Delicious healthy food. The steak is amazing. ...</td>\n",
       "      <td>0</td>\n",
       "      <td>msQe1u7Z_XuqjGoqhB0J5g</td>\n",
       "      <td>25</td>\n",
       "    </tr>\n",
       "    <tr>\n",
       "      <th>5</th>\n",
       "      <td>vgfcTvK81oD4r50NMjU2Ag</td>\n",
       "      <td>0</td>\n",
       "      <td>2011-02-25</td>\n",
       "      <td>0</td>\n",
       "      <td>pfavA0hr3nyqO61oupj-lA</td>\n",
       "      <td>1</td>\n",
       "      <td>This place sucks. The customer service is horr...</td>\n",
       "      <td>2</td>\n",
       "      <td>msQe1u7Z_XuqjGoqhB0J5g</td>\n",
       "      <td>1</td>\n",
       "    </tr>\n",
       "    <tr>\n",
       "      <th>10</th>\n",
       "      <td>yFumR3CWzpfvTH2FCthvVw</td>\n",
       "      <td>0</td>\n",
       "      <td>2016-06-15</td>\n",
       "      <td>0</td>\n",
       "      <td>STiFMww2z31siPY7BWNC2g</td>\n",
       "      <td>5</td>\n",
       "      <td>I have been an Emerald Club member for a numbe...</td>\n",
       "      <td>0</td>\n",
       "      <td>TlvV-xJhmh7LCwJYXkV-cg</td>\n",
       "      <td>25</td>\n",
       "    </tr>\n",
       "    <tr>\n",
       "      <th>11</th>\n",
       "      <td>UBv8heCQR0RPnUQG0zkXIQ</td>\n",
       "      <td>0</td>\n",
       "      <td>2016-09-23</td>\n",
       "      <td>0</td>\n",
       "      <td>HkYqGb0Gplmmk-xlHTRBoA</td>\n",
       "      <td>1</td>\n",
       "      <td>The score should be negative. Its HORRIBLE. Th...</td>\n",
       "      <td>0</td>\n",
       "      <td>NhOc64RsrTT1Dls50yYW8g</td>\n",
       "      <td>1</td>\n",
       "    </tr>\n",
       "    <tr>\n",
       "      <th>12</th>\n",
       "      <td>hdgYnadxg0GANhWOJabr2g</td>\n",
       "      <td>0</td>\n",
       "      <td>2014-08-23</td>\n",
       "      <td>0</td>\n",
       "      <td>RgqWdZA4xR023iP3T6jVfA</td>\n",
       "      <td>5</td>\n",
       "      <td>I went there twice and I am pretty happy with ...</td>\n",
       "      <td>0</td>\n",
       "      <td>NhOc64RsrTT1Dls50yYW8g</td>\n",
       "      <td>25</td>\n",
       "    </tr>\n",
       "    <tr>\n",
       "      <th>19</th>\n",
       "      <td>gZGsReG0VeX4uKViHTB9EQ</td>\n",
       "      <td>0</td>\n",
       "      <td>2017-08-16</td>\n",
       "      <td>0</td>\n",
       "      <td>51RHs_V_fjuistnuKxNpEg</td>\n",
       "      <td>5</td>\n",
       "      <td>Finally! After trying many Mexican restaurants...</td>\n",
       "      <td>0</td>\n",
       "      <td>5ngpW5tf3ep680eG1HxHzA</td>\n",
       "      <td>25</td>\n",
       "    </tr>\n",
       "    <tr>\n",
       "      <th>25</th>\n",
       "      <td>f-v1fvtnbdw_QQRsCnwH-g</td>\n",
       "      <td>0</td>\n",
       "      <td>2017-11-18</td>\n",
       "      <td>0</td>\n",
       "      <td>alI_kRKyEHfdHibYGgtJbw</td>\n",
       "      <td>1</td>\n",
       "      <td>I have to write a review on the Fractured Prun...</td>\n",
       "      <td>0</td>\n",
       "      <td>Fc_nb6N6Sdurqb-rwsY1Bw</td>\n",
       "      <td>1</td>\n",
       "    </tr>\n",
       "    <tr>\n",
       "      <th>26</th>\n",
       "      <td>yz66FIUPDKGhILDWzRLeKg</td>\n",
       "      <td>0</td>\n",
       "      <td>2017-11-18</td>\n",
       "      <td>0</td>\n",
       "      <td>85DRIjwPJOTb4q0qOlBstw</td>\n",
       "      <td>1</td>\n",
       "      <td>I wish i could tell you all about the food but...</td>\n",
       "      <td>1</td>\n",
       "      <td>Fc_nb6N6Sdurqb-rwsY1Bw</td>\n",
       "      <td>1</td>\n",
       "    </tr>\n",
       "  </tbody>\n",
       "</table>\n",
       "</div>"
      ],
      "text/plain": [
       "               business_id  cool        date  funny               review_id  \\\n",
       "1   pomGBqfbxcqPv14c3XH-ZQ     0  2012-11-13      0  dDl8zu1vWPdKGihJrwQbpw   \n",
       "2   jtQARsP6P-LbkyjbO1qNGg     1  2014-10-23      1  LZp4UX5zK3e-c5ZGSeo3kA   \n",
       "4   Ums3gaP2qM3W1XcA5r6SsQ     0  2014-09-05      0  jsDu6QEJHbwP2Blom1PLCA   \n",
       "5   vgfcTvK81oD4r50NMjU2Ag     0  2011-02-25      0  pfavA0hr3nyqO61oupj-lA   \n",
       "10  yFumR3CWzpfvTH2FCthvVw     0  2016-06-15      0  STiFMww2z31siPY7BWNC2g   \n",
       "11  UBv8heCQR0RPnUQG0zkXIQ     0  2016-09-23      0  HkYqGb0Gplmmk-xlHTRBoA   \n",
       "12  hdgYnadxg0GANhWOJabr2g     0  2014-08-23      0  RgqWdZA4xR023iP3T6jVfA   \n",
       "19  gZGsReG0VeX4uKViHTB9EQ     0  2017-08-16      0  51RHs_V_fjuistnuKxNpEg   \n",
       "25  f-v1fvtnbdw_QQRsCnwH-g     0  2017-11-18      0  alI_kRKyEHfdHibYGgtJbw   \n",
       "26  yz66FIUPDKGhILDWzRLeKg     0  2017-11-18      0  85DRIjwPJOTb4q0qOlBstw   \n",
       "\n",
       "    stars                                               text  useful  \\\n",
       "1       5  I love this place! My fiance And I go here atl...       0   \n",
       "2       1  Terrible. Dry corn bread. Rib tips were all fa...       3   \n",
       "4       5  Delicious healthy food. The steak is amazing. ...       0   \n",
       "5       1  This place sucks. The customer service is horr...       2   \n",
       "10      5  I have been an Emerald Club member for a numbe...       0   \n",
       "11      1  The score should be negative. Its HORRIBLE. Th...       0   \n",
       "12      5  I went there twice and I am pretty happy with ...       0   \n",
       "19      5  Finally! After trying many Mexican restaurants...       0   \n",
       "25      1  I have to write a review on the Fractured Prun...       0   \n",
       "26      1  I wish i could tell you all about the food but...       1   \n",
       "\n",
       "                   user_id  stars_squared  \n",
       "1   msQe1u7Z_XuqjGoqhB0J5g             25  \n",
       "2   msQe1u7Z_XuqjGoqhB0J5g              1  \n",
       "4   msQe1u7Z_XuqjGoqhB0J5g             25  \n",
       "5   msQe1u7Z_XuqjGoqhB0J5g              1  \n",
       "10  TlvV-xJhmh7LCwJYXkV-cg             25  \n",
       "11  NhOc64RsrTT1Dls50yYW8g              1  \n",
       "12  NhOc64RsrTT1Dls50yYW8g             25  \n",
       "19  5ngpW5tf3ep680eG1HxHzA             25  \n",
       "25  Fc_nb6N6Sdurqb-rwsY1Bw              1  \n",
       "26  Fc_nb6N6Sdurqb-rwsY1Bw              1  "
      ]
     },
     "execution_count": 4,
     "metadata": {},
     "output_type": "execute_result"
    }
   ],
   "source": [
    "df.head(10)"
   ]
  },
  {
   "cell_type": "markdown",
   "metadata": {},
   "source": [
    "## Dates\n",
    "Select the month from the date string using a lambda function."
   ]
  },
  {
   "cell_type": "code",
   "execution_count": 5,
   "metadata": {},
   "outputs": [
    {
     "data": {
      "text/plain": [
       "'2011-02-25'"
      ]
     },
     "execution_count": 5,
     "metadata": {},
     "output_type": "execute_result"
    }
   ],
   "source": [
    "# grab a date\n",
    "df.loc[0, 'date']"
   ]
  },
  {
   "cell_type": "code",
   "execution_count": 6,
   "metadata": {},
   "outputs": [
    {
     "data": {
      "text/plain": [
       "'2011'"
      ]
     },
     "execution_count": 6,
     "metadata": {},
     "output_type": "execute_result"
    }
   ],
   "source": [
    "df.loc[0, 'date'][:4]\n",
    "#grabs just the first four digits"
   ]
  },
  {
   "cell_type": "code",
   "execution_count": 7,
   "metadata": {},
   "outputs": [
    {
     "data": {
      "text/plain": [
       "'02'"
      ]
     },
     "execution_count": 7,
     "metadata": {},
     "output_type": "execute_result"
    }
   ],
   "source": [
    "df.loc[0, 'date'][5:7] #grabbing 5 through 7 to get the month"
   ]
  },
  {
   "cell_type": "code",
   "execution_count": 8,
   "metadata": {
    "scrolled": true
   },
   "outputs": [
    {
     "data": {
      "text/plain": [
       "1       11\n",
       "2       10\n",
       "4       09\n",
       "5       02\n",
       "10      06\n",
       "        ..\n",
       "689     06\n",
       "4874    08\n",
       "564     06\n",
       "3458    10\n",
       "4206    08\n",
       "Name: date, Length: 2610, dtype: object"
      ]
     },
     "execution_count": 8,
     "metadata": {},
     "output_type": "execute_result"
    }
   ],
   "source": [
    "df['date'].map(lambda x: x[5:7])"
   ]
  },
  {
   "cell_type": "code",
   "execution_count": 9,
   "metadata": {},
   "outputs": [
    {
     "data": {
      "text/html": [
       "<div>\n",
       "<style scoped>\n",
       "    .dataframe tbody tr th:only-of-type {\n",
       "        vertical-align: middle;\n",
       "    }\n",
       "\n",
       "    .dataframe tbody tr th {\n",
       "        vertical-align: top;\n",
       "    }\n",
       "\n",
       "    .dataframe thead th {\n",
       "        text-align: right;\n",
       "    }\n",
       "</style>\n",
       "<table border=\"1\" class=\"dataframe\">\n",
       "  <thead>\n",
       "    <tr style=\"text-align: right;\">\n",
       "      <th></th>\n",
       "      <th>business_id</th>\n",
       "      <th>cool</th>\n",
       "      <th>date</th>\n",
       "      <th>funny</th>\n",
       "      <th>review_id</th>\n",
       "      <th>stars</th>\n",
       "      <th>text</th>\n",
       "      <th>useful</th>\n",
       "      <th>user_id</th>\n",
       "      <th>stars_squared</th>\n",
       "    </tr>\n",
       "  </thead>\n",
       "  <tbody>\n",
       "    <tr>\n",
       "      <th>1</th>\n",
       "      <td>pomGBqfbxcqPv14c3XH-ZQ</td>\n",
       "      <td>0</td>\n",
       "      <td>2012-11-13</td>\n",
       "      <td>0</td>\n",
       "      <td>dDl8zu1vWPdKGihJrwQbpw</td>\n",
       "      <td>5</td>\n",
       "      <td>I love this place! My fiance And I go here atl...</td>\n",
       "      <td>0</td>\n",
       "      <td>msQe1u7Z_XuqjGoqhB0J5g</td>\n",
       "      <td>25</td>\n",
       "    </tr>\n",
       "    <tr>\n",
       "      <th>2</th>\n",
       "      <td>jtQARsP6P-LbkyjbO1qNGg</td>\n",
       "      <td>1</td>\n",
       "      <td>2014-10-23</td>\n",
       "      <td>1</td>\n",
       "      <td>LZp4UX5zK3e-c5ZGSeo3kA</td>\n",
       "      <td>1</td>\n",
       "      <td>Terrible. Dry corn bread. Rib tips were all fa...</td>\n",
       "      <td>3</td>\n",
       "      <td>msQe1u7Z_XuqjGoqhB0J5g</td>\n",
       "      <td>1</td>\n",
       "    </tr>\n",
       "    <tr>\n",
       "      <th>4</th>\n",
       "      <td>Ums3gaP2qM3W1XcA5r6SsQ</td>\n",
       "      <td>0</td>\n",
       "      <td>2014-09-05</td>\n",
       "      <td>0</td>\n",
       "      <td>jsDu6QEJHbwP2Blom1PLCA</td>\n",
       "      <td>5</td>\n",
       "      <td>Delicious healthy food. The steak is amazing. ...</td>\n",
       "      <td>0</td>\n",
       "      <td>msQe1u7Z_XuqjGoqhB0J5g</td>\n",
       "      <td>25</td>\n",
       "    </tr>\n",
       "    <tr>\n",
       "      <th>5</th>\n",
       "      <td>vgfcTvK81oD4r50NMjU2Ag</td>\n",
       "      <td>0</td>\n",
       "      <td>2011-02-25</td>\n",
       "      <td>0</td>\n",
       "      <td>pfavA0hr3nyqO61oupj-lA</td>\n",
       "      <td>1</td>\n",
       "      <td>This place sucks. The customer service is horr...</td>\n",
       "      <td>2</td>\n",
       "      <td>msQe1u7Z_XuqjGoqhB0J5g</td>\n",
       "      <td>1</td>\n",
       "    </tr>\n",
       "    <tr>\n",
       "      <th>10</th>\n",
       "      <td>yFumR3CWzpfvTH2FCthvVw</td>\n",
       "      <td>0</td>\n",
       "      <td>2016-06-15</td>\n",
       "      <td>0</td>\n",
       "      <td>STiFMww2z31siPY7BWNC2g</td>\n",
       "      <td>5</td>\n",
       "      <td>I have been an Emerald Club member for a numbe...</td>\n",
       "      <td>0</td>\n",
       "      <td>TlvV-xJhmh7LCwJYXkV-cg</td>\n",
       "      <td>25</td>\n",
       "    </tr>\n",
       "  </tbody>\n",
       "</table>\n",
       "</div>"
      ],
      "text/plain": [
       "               business_id  cool        date  funny               review_id  \\\n",
       "1   pomGBqfbxcqPv14c3XH-ZQ     0  2012-11-13      0  dDl8zu1vWPdKGihJrwQbpw   \n",
       "2   jtQARsP6P-LbkyjbO1qNGg     1  2014-10-23      1  LZp4UX5zK3e-c5ZGSeo3kA   \n",
       "4   Ums3gaP2qM3W1XcA5r6SsQ     0  2014-09-05      0  jsDu6QEJHbwP2Blom1PLCA   \n",
       "5   vgfcTvK81oD4r50NMjU2Ag     0  2011-02-25      0  pfavA0hr3nyqO61oupj-lA   \n",
       "10  yFumR3CWzpfvTH2FCthvVw     0  2016-06-15      0  STiFMww2z31siPY7BWNC2g   \n",
       "\n",
       "    stars                                               text  useful  \\\n",
       "1       5  I love this place! My fiance And I go here atl...       0   \n",
       "2       1  Terrible. Dry corn bread. Rib tips were all fa...       3   \n",
       "4       5  Delicious healthy food. The steak is amazing. ...       0   \n",
       "5       1  This place sucks. The customer service is horr...       2   \n",
       "10      5  I have been an Emerald Club member for a numbe...       0   \n",
       "\n",
       "                   user_id  stars_squared  \n",
       "1   msQe1u7Z_XuqjGoqhB0J5g             25  \n",
       "2   msQe1u7Z_XuqjGoqhB0J5g              1  \n",
       "4   msQe1u7Z_XuqjGoqhB0J5g             25  \n",
       "5   msQe1u7Z_XuqjGoqhB0J5g              1  \n",
       "10  TlvV-xJhmh7LCwJYXkV-cg             25  "
      ]
     },
     "execution_count": 9,
     "metadata": {},
     "output_type": "execute_result"
    }
   ],
   "source": [
    "df.head()"
   ]
  },
  {
   "cell_type": "markdown",
   "metadata": {},
   "source": [
    "## What is the average number of words for a yelp review?\n",
    "Do this with a single line of code!"
   ]
  },
  {
   "cell_type": "code",
   "execution_count": 11,
   "metadata": {},
   "outputs": [
    {
     "data": {
      "text/plain": [
       "'I love this place! My fiance And I go here atleast once a week. The portions are huge! Food is amazing. I love their carne asada. They have great lunch specials... Leticia is super nice and cares about what you think of her restaurant. You have to try their cheese enchiladas too the sauce is different And amazing!!!'"
      ]
     },
     "execution_count": 11,
     "metadata": {},
     "output_type": "execute_result"
    }
   ],
   "source": [
    "df.loc[1, 'text']"
   ]
  },
  {
   "cell_type": "code",
   "execution_count": 12,
   "metadata": {
    "scrolled": false
   },
   "outputs": [
    {
     "data": {
      "text/plain": [
       "['I',\n",
       " 'love',\n",
       " 'this',\n",
       " 'place!',\n",
       " 'My',\n",
       " 'fiance',\n",
       " 'And',\n",
       " 'I',\n",
       " 'go',\n",
       " 'here',\n",
       " 'atleast',\n",
       " 'once',\n",
       " 'a',\n",
       " 'week.',\n",
       " 'The',\n",
       " 'portions',\n",
       " 'are',\n",
       " 'huge!',\n",
       " 'Food',\n",
       " 'is',\n",
       " 'amazing.',\n",
       " 'I',\n",
       " 'love',\n",
       " 'their',\n",
       " 'carne',\n",
       " 'asada.',\n",
       " 'They',\n",
       " 'have',\n",
       " 'great',\n",
       " 'lunch',\n",
       " 'specials...',\n",
       " 'Leticia',\n",
       " 'is',\n",
       " 'super',\n",
       " 'nice',\n",
       " 'and',\n",
       " 'cares',\n",
       " 'about',\n",
       " 'what',\n",
       " 'you',\n",
       " 'think',\n",
       " 'of',\n",
       " 'her',\n",
       " 'restaurant.',\n",
       " 'You',\n",
       " 'have',\n",
       " 'to',\n",
       " 'try',\n",
       " 'their',\n",
       " 'cheese',\n",
       " 'enchiladas',\n",
       " 'too',\n",
       " 'the',\n",
       " 'sauce',\n",
       " 'is',\n",
       " 'different',\n",
       " 'And',\n",
       " 'amazing!!!']"
      ]
     },
     "execution_count": 12,
     "metadata": {},
     "output_type": "execute_result"
    }
   ],
   "source": [
    "df.loc[1, 'text'].split(' ') #splitting the review to individual words"
   ]
  },
  {
   "cell_type": "code",
   "execution_count": 13,
   "metadata": {},
   "outputs": [
    {
     "data": {
      "text/plain": [
       "1       [I, love, this, place!, My, fiance, And, I, go...\n",
       "2       [Terrible., Dry, corn, bread., Rib, tips, were...\n",
       "4       [Delicious, healthy, food., The, steak, is, am...\n",
       "5       [This, place, sucks., The, customer, service, ...\n",
       "10      [I, have, been, an, Emerald, Club, member, for...\n",
       "                              ...                        \n",
       "689     [Came, here, with, my, 2, year, old, daughter,...\n",
       "4874    [Great, little, restaurant., Not, to, many, ta...\n",
       "564     [Always, great, friendly, service, and, fresh,...\n",
       "3458    [We, were, expecting, amazing, Thai, food, aft...\n",
       "4206    [Sunday, at, 8p., Not, many, people, here, at,...\n",
       "Name: text, Length: 2610, dtype: object"
      ]
     },
     "execution_count": 13,
     "metadata": {},
     "output_type": "execute_result"
    }
   ],
   "source": [
    "df['text'].map(lambda x: x.split(' ')) #split all the reviews into individual words, next line will run mean"
   ]
  },
  {
   "cell_type": "code",
   "execution_count": 15,
   "metadata": {
    "scrolled": true
   },
   "outputs": [
    {
     "data": {
      "text/plain": [
       "58"
      ]
     },
     "execution_count": 15,
     "metadata": {},
     "output_type": "execute_result"
    }
   ],
   "source": [
    "len(df.loc[1, 'text'].split(' '))"
   ]
  },
  {
   "cell_type": "code",
   "execution_count": 16,
   "metadata": {
    "scrolled": true
   },
   "outputs": [
    {
     "data": {
      "text/plain": [
       "1        58\n",
       "2        30\n",
       "4        30\n",
       "5        82\n",
       "10       34\n",
       "       ... \n",
       "689      65\n",
       "4874     43\n",
       "564      81\n",
       "3458    185\n",
       "4206     42\n",
       "Name: text, Length: 2610, dtype: int64"
      ]
     },
     "execution_count": 16,
     "metadata": {},
     "output_type": "execute_result"
    }
   ],
   "source": [
    "df['text'].map(lambda x: len(x.split(' ')))"
   ]
  },
  {
   "cell_type": "code",
   "execution_count": 17,
   "metadata": {},
   "outputs": [
    {
     "data": {
      "text/plain": [
       "77.86206896551724"
      ]
     },
     "execution_count": 17,
     "metadata": {},
     "output_type": "execute_result"
    }
   ],
   "source": [
    "df['text'].map(lambda x: len(x.split(' '))).mean()"
   ]
  },
  {
   "cell_type": "markdown",
   "metadata": {},
   "source": [
    "## Create a new column for the number of words in the review"
   ]
  },
  {
   "cell_type": "code",
   "execution_count": 18,
   "metadata": {},
   "outputs": [],
   "source": [
    "df['num_words'] = df['text'].map(lambda x: len(x.split(' ')))"
   ]
  },
  {
   "cell_type": "code",
   "execution_count": 19,
   "metadata": {},
   "outputs": [
    {
     "data": {
      "text/html": [
       "<div>\n",
       "<style scoped>\n",
       "    .dataframe tbody tr th:only-of-type {\n",
       "        vertical-align: middle;\n",
       "    }\n",
       "\n",
       "    .dataframe tbody tr th {\n",
       "        vertical-align: top;\n",
       "    }\n",
       "\n",
       "    .dataframe thead th {\n",
       "        text-align: right;\n",
       "    }\n",
       "</style>\n",
       "<table border=\"1\" class=\"dataframe\">\n",
       "  <thead>\n",
       "    <tr style=\"text-align: right;\">\n",
       "      <th></th>\n",
       "      <th>business_id</th>\n",
       "      <th>cool</th>\n",
       "      <th>date</th>\n",
       "      <th>funny</th>\n",
       "      <th>review_id</th>\n",
       "      <th>stars</th>\n",
       "      <th>text</th>\n",
       "      <th>useful</th>\n",
       "      <th>user_id</th>\n",
       "      <th>stars_squared</th>\n",
       "      <th>num_words</th>\n",
       "    </tr>\n",
       "  </thead>\n",
       "  <tbody>\n",
       "    <tr>\n",
       "      <th>1</th>\n",
       "      <td>pomGBqfbxcqPv14c3XH-ZQ</td>\n",
       "      <td>0</td>\n",
       "      <td>2012-11-13</td>\n",
       "      <td>0</td>\n",
       "      <td>dDl8zu1vWPdKGihJrwQbpw</td>\n",
       "      <td>5</td>\n",
       "      <td>I love this place! My fiance And I go here atl...</td>\n",
       "      <td>0</td>\n",
       "      <td>msQe1u7Z_XuqjGoqhB0J5g</td>\n",
       "      <td>25</td>\n",
       "      <td>58</td>\n",
       "    </tr>\n",
       "    <tr>\n",
       "      <th>2</th>\n",
       "      <td>jtQARsP6P-LbkyjbO1qNGg</td>\n",
       "      <td>1</td>\n",
       "      <td>2014-10-23</td>\n",
       "      <td>1</td>\n",
       "      <td>LZp4UX5zK3e-c5ZGSeo3kA</td>\n",
       "      <td>1</td>\n",
       "      <td>Terrible. Dry corn bread. Rib tips were all fa...</td>\n",
       "      <td>3</td>\n",
       "      <td>msQe1u7Z_XuqjGoqhB0J5g</td>\n",
       "      <td>1</td>\n",
       "      <td>30</td>\n",
       "    </tr>\n",
       "    <tr>\n",
       "      <th>4</th>\n",
       "      <td>Ums3gaP2qM3W1XcA5r6SsQ</td>\n",
       "      <td>0</td>\n",
       "      <td>2014-09-05</td>\n",
       "      <td>0</td>\n",
       "      <td>jsDu6QEJHbwP2Blom1PLCA</td>\n",
       "      <td>5</td>\n",
       "      <td>Delicious healthy food. The steak is amazing. ...</td>\n",
       "      <td>0</td>\n",
       "      <td>msQe1u7Z_XuqjGoqhB0J5g</td>\n",
       "      <td>25</td>\n",
       "      <td>30</td>\n",
       "    </tr>\n",
       "    <tr>\n",
       "      <th>5</th>\n",
       "      <td>vgfcTvK81oD4r50NMjU2Ag</td>\n",
       "      <td>0</td>\n",
       "      <td>2011-02-25</td>\n",
       "      <td>0</td>\n",
       "      <td>pfavA0hr3nyqO61oupj-lA</td>\n",
       "      <td>1</td>\n",
       "      <td>This place sucks. The customer service is horr...</td>\n",
       "      <td>2</td>\n",
       "      <td>msQe1u7Z_XuqjGoqhB0J5g</td>\n",
       "      <td>1</td>\n",
       "      <td>82</td>\n",
       "    </tr>\n",
       "    <tr>\n",
       "      <th>10</th>\n",
       "      <td>yFumR3CWzpfvTH2FCthvVw</td>\n",
       "      <td>0</td>\n",
       "      <td>2016-06-15</td>\n",
       "      <td>0</td>\n",
       "      <td>STiFMww2z31siPY7BWNC2g</td>\n",
       "      <td>5</td>\n",
       "      <td>I have been an Emerald Club member for a numbe...</td>\n",
       "      <td>0</td>\n",
       "      <td>TlvV-xJhmh7LCwJYXkV-cg</td>\n",
       "      <td>25</td>\n",
       "      <td>34</td>\n",
       "    </tr>\n",
       "  </tbody>\n",
       "</table>\n",
       "</div>"
      ],
      "text/plain": [
       "               business_id  cool        date  funny               review_id  \\\n",
       "1   pomGBqfbxcqPv14c3XH-ZQ     0  2012-11-13      0  dDl8zu1vWPdKGihJrwQbpw   \n",
       "2   jtQARsP6P-LbkyjbO1qNGg     1  2014-10-23      1  LZp4UX5zK3e-c5ZGSeo3kA   \n",
       "4   Ums3gaP2qM3W1XcA5r6SsQ     0  2014-09-05      0  jsDu6QEJHbwP2Blom1PLCA   \n",
       "5   vgfcTvK81oD4r50NMjU2Ag     0  2011-02-25      0  pfavA0hr3nyqO61oupj-lA   \n",
       "10  yFumR3CWzpfvTH2FCthvVw     0  2016-06-15      0  STiFMww2z31siPY7BWNC2g   \n",
       "\n",
       "    stars                                               text  useful  \\\n",
       "1       5  I love this place! My fiance And I go here atl...       0   \n",
       "2       1  Terrible. Dry corn bread. Rib tips were all fa...       3   \n",
       "4       5  Delicious healthy food. The steak is amazing. ...       0   \n",
       "5       1  This place sucks. The customer service is horr...       2   \n",
       "10      5  I have been an Emerald Club member for a numbe...       0   \n",
       "\n",
       "                   user_id  stars_squared  num_words  \n",
       "1   msQe1u7Z_XuqjGoqhB0J5g             25         58  \n",
       "2   msQe1u7Z_XuqjGoqhB0J5g              1         30  \n",
       "4   msQe1u7Z_XuqjGoqhB0J5g             25         30  \n",
       "5   msQe1u7Z_XuqjGoqhB0J5g              1         82  \n",
       "10  TlvV-xJhmh7LCwJYXkV-cg             25         34  "
      ]
     },
     "execution_count": 19,
     "metadata": {},
     "output_type": "execute_result"
    }
   ],
   "source": [
    "df.head()"
   ]
  },
  {
   "cell_type": "markdown",
   "metadata": {},
   "source": [
    "## Rewrite the following as a lambda function\n",
    "\n",
    "Create a new column `'Review_Length'` by applying this lambda function to the `'Review_num_words'` column. "
   ]
  },
  {
   "cell_type": "code",
   "execution_count": 20,
   "metadata": {},
   "outputs": [],
   "source": [
    "# Rewrite the following function as a lambda function\n",
    "def rewrite_as_lambda(value):\n",
    "    if len(value) < 50:\n",
    "        return 'Short'\n",
    "    elif len(value) < 80:\n",
    "        return 'Medium'\n",
    "    else:\n",
    "        return 'Long'\n",
    "# Hint: nest your if, else conditionals\n",
    "\n",
    "df['Review_length'] = df['num_words'].map(lambda x: 'Short' if x < 50 else ('Medium' if x < 80 else 'Long'))"
   ]
  },
  {
   "cell_type": "code",
   "execution_count": 21,
   "metadata": {},
   "outputs": [
    {
     "data": {
      "text/html": [
       "<div>\n",
       "<style scoped>\n",
       "    .dataframe tbody tr th:only-of-type {\n",
       "        vertical-align: middle;\n",
       "    }\n",
       "\n",
       "    .dataframe tbody tr th {\n",
       "        vertical-align: top;\n",
       "    }\n",
       "\n",
       "    .dataframe thead th {\n",
       "        text-align: right;\n",
       "    }\n",
       "</style>\n",
       "<table border=\"1\" class=\"dataframe\">\n",
       "  <thead>\n",
       "    <tr style=\"text-align: right;\">\n",
       "      <th></th>\n",
       "      <th>business_id</th>\n",
       "      <th>cool</th>\n",
       "      <th>date</th>\n",
       "      <th>funny</th>\n",
       "      <th>review_id</th>\n",
       "      <th>stars</th>\n",
       "      <th>text</th>\n",
       "      <th>useful</th>\n",
       "      <th>user_id</th>\n",
       "      <th>stars_squared</th>\n",
       "      <th>num_words</th>\n",
       "      <th>Review_length</th>\n",
       "    </tr>\n",
       "  </thead>\n",
       "  <tbody>\n",
       "    <tr>\n",
       "      <th>1</th>\n",
       "      <td>pomGBqfbxcqPv14c3XH-ZQ</td>\n",
       "      <td>0</td>\n",
       "      <td>2012-11-13</td>\n",
       "      <td>0</td>\n",
       "      <td>dDl8zu1vWPdKGihJrwQbpw</td>\n",
       "      <td>5</td>\n",
       "      <td>I love this place! My fiance And I go here atl...</td>\n",
       "      <td>0</td>\n",
       "      <td>msQe1u7Z_XuqjGoqhB0J5g</td>\n",
       "      <td>25</td>\n",
       "      <td>58</td>\n",
       "      <td>Medium</td>\n",
       "    </tr>\n",
       "    <tr>\n",
       "      <th>2</th>\n",
       "      <td>jtQARsP6P-LbkyjbO1qNGg</td>\n",
       "      <td>1</td>\n",
       "      <td>2014-10-23</td>\n",
       "      <td>1</td>\n",
       "      <td>LZp4UX5zK3e-c5ZGSeo3kA</td>\n",
       "      <td>1</td>\n",
       "      <td>Terrible. Dry corn bread. Rib tips were all fa...</td>\n",
       "      <td>3</td>\n",
       "      <td>msQe1u7Z_XuqjGoqhB0J5g</td>\n",
       "      <td>1</td>\n",
       "      <td>30</td>\n",
       "      <td>Short</td>\n",
       "    </tr>\n",
       "    <tr>\n",
       "      <th>4</th>\n",
       "      <td>Ums3gaP2qM3W1XcA5r6SsQ</td>\n",
       "      <td>0</td>\n",
       "      <td>2014-09-05</td>\n",
       "      <td>0</td>\n",
       "      <td>jsDu6QEJHbwP2Blom1PLCA</td>\n",
       "      <td>5</td>\n",
       "      <td>Delicious healthy food. The steak is amazing. ...</td>\n",
       "      <td>0</td>\n",
       "      <td>msQe1u7Z_XuqjGoqhB0J5g</td>\n",
       "      <td>25</td>\n",
       "      <td>30</td>\n",
       "      <td>Short</td>\n",
       "    </tr>\n",
       "    <tr>\n",
       "      <th>5</th>\n",
       "      <td>vgfcTvK81oD4r50NMjU2Ag</td>\n",
       "      <td>0</td>\n",
       "      <td>2011-02-25</td>\n",
       "      <td>0</td>\n",
       "      <td>pfavA0hr3nyqO61oupj-lA</td>\n",
       "      <td>1</td>\n",
       "      <td>This place sucks. The customer service is horr...</td>\n",
       "      <td>2</td>\n",
       "      <td>msQe1u7Z_XuqjGoqhB0J5g</td>\n",
       "      <td>1</td>\n",
       "      <td>82</td>\n",
       "      <td>Long</td>\n",
       "    </tr>\n",
       "    <tr>\n",
       "      <th>10</th>\n",
       "      <td>yFumR3CWzpfvTH2FCthvVw</td>\n",
       "      <td>0</td>\n",
       "      <td>2016-06-15</td>\n",
       "      <td>0</td>\n",
       "      <td>STiFMww2z31siPY7BWNC2g</td>\n",
       "      <td>5</td>\n",
       "      <td>I have been an Emerald Club member for a numbe...</td>\n",
       "      <td>0</td>\n",
       "      <td>TlvV-xJhmh7LCwJYXkV-cg</td>\n",
       "      <td>25</td>\n",
       "      <td>34</td>\n",
       "      <td>Short</td>\n",
       "    </tr>\n",
       "  </tbody>\n",
       "</table>\n",
       "</div>"
      ],
      "text/plain": [
       "               business_id  cool        date  funny               review_id  \\\n",
       "1   pomGBqfbxcqPv14c3XH-ZQ     0  2012-11-13      0  dDl8zu1vWPdKGihJrwQbpw   \n",
       "2   jtQARsP6P-LbkyjbO1qNGg     1  2014-10-23      1  LZp4UX5zK3e-c5ZGSeo3kA   \n",
       "4   Ums3gaP2qM3W1XcA5r6SsQ     0  2014-09-05      0  jsDu6QEJHbwP2Blom1PLCA   \n",
       "5   vgfcTvK81oD4r50NMjU2Ag     0  2011-02-25      0  pfavA0hr3nyqO61oupj-lA   \n",
       "10  yFumR3CWzpfvTH2FCthvVw     0  2016-06-15      0  STiFMww2z31siPY7BWNC2g   \n",
       "\n",
       "    stars                                               text  useful  \\\n",
       "1       5  I love this place! My fiance And I go here atl...       0   \n",
       "2       1  Terrible. Dry corn bread. Rib tips were all fa...       3   \n",
       "4       5  Delicious healthy food. The steak is amazing. ...       0   \n",
       "5       1  This place sucks. The customer service is horr...       2   \n",
       "10      5  I have been an Emerald Club member for a numbe...       0   \n",
       "\n",
       "                   user_id  stars_squared  num_words Review_length  \n",
       "1   msQe1u7Z_XuqjGoqhB0J5g             25         58        Medium  \n",
       "2   msQe1u7Z_XuqjGoqhB0J5g              1         30         Short  \n",
       "4   msQe1u7Z_XuqjGoqhB0J5g             25         30         Short  \n",
       "5   msQe1u7Z_XuqjGoqhB0J5g              1         82          Long  \n",
       "10  TlvV-xJhmh7LCwJYXkV-cg             25         34         Short  "
      ]
     },
     "execution_count": 21,
     "metadata": {},
     "output_type": "execute_result"
    }
   ],
   "source": [
    "df.head()"
   ]
  },
  {
   "cell_type": "markdown",
   "metadata": {},
   "source": [
    "## Level Up: Dates Advanced!\n",
    "<img src=\"images/world_map.png\" width=\"600\">  \n",
    "\n",
    "Print the first five rows of the `'date'` column. "
   ]
  },
  {
   "cell_type": "code",
   "execution_count": 22,
   "metadata": {},
   "outputs": [
    {
     "data": {
      "text/plain": [
       "1     2012-11-13\n",
       "2     2014-10-23\n",
       "4     2014-09-05\n",
       "5     2011-02-25\n",
       "10    2016-06-15\n",
       "Name: date, dtype: object"
      ]
     },
     "execution_count": 22,
     "metadata": {},
     "output_type": "execute_result"
    }
   ],
   "source": [
    "df['date'].head()"
   ]
  },
  {
   "cell_type": "markdown",
   "metadata": {},
   "source": [
    "Overwrite the `'date'` column by reordering the month and day from `YYYY-MM-DD` to `DD-MM-YYYY`. Try to do this using a lambda function."
   ]
  },
  {
   "cell_type": "code",
   "execution_count": 23,
   "metadata": {
    "scrolled": true
   },
   "outputs": [
    {
     "data": {
      "text/plain": [
       "'2012-11-13'"
      ]
     },
     "execution_count": 23,
     "metadata": {},
     "output_type": "execute_result"
    }
   ],
   "source": [
    "df.loc[1, 'date'] #grabbing a date to play with"
   ]
  },
  {
   "cell_type": "code",
   "execution_count": 24,
   "metadata": {},
   "outputs": [
    {
     "data": {
      "text/plain": [
       "'2012'"
      ]
     },
     "execution_count": 24,
     "metadata": {},
     "output_type": "execute_result"
    }
   ],
   "source": [
    "#grab the year first\n",
    "df.loc[1, 'date'][:4]"
   ]
  },
  {
   "cell_type": "code",
   "execution_count": 25,
   "metadata": {
    "scrolled": true
   },
   "outputs": [
    {
     "data": {
      "text/plain": [
       "'11'"
      ]
     },
     "execution_count": 25,
     "metadata": {},
     "output_type": "execute_result"
    }
   ],
   "source": [
    "#grab the month\n",
    "df.loc[1, 'date'][5:7]"
   ]
  },
  {
   "cell_type": "code",
   "execution_count": 27,
   "metadata": {},
   "outputs": [
    {
     "data": {
      "text/plain": [
       "'13'"
      ]
     },
     "execution_count": 27,
     "metadata": {},
     "output_type": "execute_result"
    }
   ],
   "source": [
    "#grab the day\n",
    "df.loc[1, 'date'][8:]"
   ]
  },
  {
   "cell_type": "code",
   "execution_count": 28,
   "metadata": {},
   "outputs": [
    {
     "data": {
      "text/plain": [
       "1       13-11-2012\n",
       "2       23-10-2014\n",
       "4       05-09-2014\n",
       "5       25-02-2011\n",
       "10      15-06-2016\n",
       "           ...    \n",
       "689     02-06-2013\n",
       "4874    14-08-2016\n",
       "564     14-06-2016\n",
       "3458    02-10-2013\n",
       "4206    15-08-2016\n",
       "Name: date, Length: 2610, dtype: object"
      ]
     },
     "execution_count": 28,
     "metadata": {},
     "output_type": "execute_result"
    }
   ],
   "source": [
    "#play around first before making it\n",
    "df['date'].map(lambda x: f'{x[8:]}-{x[5:7]}-{x[:4]}')"
   ]
  },
  {
   "cell_type": "code",
   "execution_count": 29,
   "metadata": {},
   "outputs": [],
   "source": [
    "df['new_date'] = df['date'].map(lambda x: f'{x[8:]}-{x[5:7]}-{x[:4]}')"
   ]
  },
  {
   "cell_type": "code",
   "execution_count": 30,
   "metadata": {},
   "outputs": [
    {
     "data": {
      "text/html": [
       "<div>\n",
       "<style scoped>\n",
       "    .dataframe tbody tr th:only-of-type {\n",
       "        vertical-align: middle;\n",
       "    }\n",
       "\n",
       "    .dataframe tbody tr th {\n",
       "        vertical-align: top;\n",
       "    }\n",
       "\n",
       "    .dataframe thead th {\n",
       "        text-align: right;\n",
       "    }\n",
       "</style>\n",
       "<table border=\"1\" class=\"dataframe\">\n",
       "  <thead>\n",
       "    <tr style=\"text-align: right;\">\n",
       "      <th></th>\n",
       "      <th>date</th>\n",
       "      <th>new_date</th>\n",
       "    </tr>\n",
       "  </thead>\n",
       "  <tbody>\n",
       "    <tr>\n",
       "      <th>1</th>\n",
       "      <td>2012-11-13</td>\n",
       "      <td>13-11-2012</td>\n",
       "    </tr>\n",
       "    <tr>\n",
       "      <th>2</th>\n",
       "      <td>2014-10-23</td>\n",
       "      <td>23-10-2014</td>\n",
       "    </tr>\n",
       "    <tr>\n",
       "      <th>4</th>\n",
       "      <td>2014-09-05</td>\n",
       "      <td>05-09-2014</td>\n",
       "    </tr>\n",
       "    <tr>\n",
       "      <th>5</th>\n",
       "      <td>2011-02-25</td>\n",
       "      <td>25-02-2011</td>\n",
       "    </tr>\n",
       "    <tr>\n",
       "      <th>10</th>\n",
       "      <td>2016-06-15</td>\n",
       "      <td>15-06-2016</td>\n",
       "    </tr>\n",
       "    <tr>\n",
       "      <th>...</th>\n",
       "      <td>...</td>\n",
       "      <td>...</td>\n",
       "    </tr>\n",
       "    <tr>\n",
       "      <th>689</th>\n",
       "      <td>2013-06-02</td>\n",
       "      <td>02-06-2013</td>\n",
       "    </tr>\n",
       "    <tr>\n",
       "      <th>4874</th>\n",
       "      <td>2016-08-14</td>\n",
       "      <td>14-08-2016</td>\n",
       "    </tr>\n",
       "    <tr>\n",
       "      <th>564</th>\n",
       "      <td>2016-06-14</td>\n",
       "      <td>14-06-2016</td>\n",
       "    </tr>\n",
       "    <tr>\n",
       "      <th>3458</th>\n",
       "      <td>2013-10-02</td>\n",
       "      <td>02-10-2013</td>\n",
       "    </tr>\n",
       "    <tr>\n",
       "      <th>4206</th>\n",
       "      <td>2016-08-15</td>\n",
       "      <td>15-08-2016</td>\n",
       "    </tr>\n",
       "  </tbody>\n",
       "</table>\n",
       "<p>2610 rows × 2 columns</p>\n",
       "</div>"
      ],
      "text/plain": [
       "            date    new_date\n",
       "1     2012-11-13  13-11-2012\n",
       "2     2014-10-23  23-10-2014\n",
       "4     2014-09-05  05-09-2014\n",
       "5     2011-02-25  25-02-2011\n",
       "10    2016-06-15  15-06-2016\n",
       "...          ...         ...\n",
       "689   2013-06-02  02-06-2013\n",
       "4874  2016-08-14  14-08-2016\n",
       "564   2016-06-14  14-06-2016\n",
       "3458  2013-10-02  02-10-2013\n",
       "4206  2016-08-15  15-08-2016\n",
       "\n",
       "[2610 rows x 2 columns]"
      ]
     },
     "execution_count": 30,
     "metadata": {},
     "output_type": "execute_result"
    }
   ],
   "source": [
    "df[['date', 'new_date']]"
   ]
  },
  {
   "cell_type": "markdown",
   "metadata": {},
   "source": [
    "## Summary\n",
    "\n",
    "Great! Hopefully, you're getting the hang of lambda functions now! It's important not to overuse them - it will often make more sense to define a function so that it's reusable elsewhere. But whenever you need to quickly apply some simple processing to a collection of data you have a new technique that will help you to do just that. It'll also be useful if you're reading someone else's code that happens to use lambdas."
   ]
  }
 ],
 "metadata": {
  "kernelspec": {
   "display_name": "learn-env",
   "language": "python",
   "name": "learn-env"
  },
  "language_info": {
   "codemirror_mode": {
    "name": "ipython",
    "version": 3
   },
   "file_extension": ".py",
   "mimetype": "text/x-python",
   "name": "python",
   "nbconvert_exporter": "python",
   "pygments_lexer": "ipython3",
   "version": "3.8.3"
  }
 },
 "nbformat": 4,
 "nbformat_minor": 2
}
